{
 "cells": [
  {
   "cell_type": "code",
   "execution_count": 1,
   "id": "5b94c313",
   "metadata": {},
   "outputs": [],
   "source": [
    "import pandas as pd\n",
    "train = pd.read_csv('train.csv')\n",
    "test = pd.read_csv('test.csv')"
   ]
  },
  {
   "cell_type": "markdown",
   "id": "70d8050c",
   "metadata": {},
   "source": [
    "# 데이터 둘러보기"
   ]
  },
  {
   "cell_type": "code",
   "execution_count": 2,
   "id": "d69b2f3a",
   "metadata": {},
   "outputs": [
    {
     "name": "stdout",
     "output_type": "stream",
     "text": [
      "(1460, 81)\n",
      "(1459, 80)\n"
     ]
    }
   ],
   "source": [
    "print(train.shape)\n",
    "print(test.shape)"
   ]
  },
  {
   "cell_type": "code",
   "execution_count": 3,
   "id": "f8594da1",
   "metadata": {
    "scrolled": true
   },
   "outputs": [
    {
     "name": "stdout",
     "output_type": "stream",
     "text": [
      "<class 'pandas.core.frame.DataFrame'>\n",
      "RangeIndex: 1460 entries, 0 to 1459\n",
      "Data columns (total 81 columns):\n",
      " #   Column         Non-Null Count  Dtype  \n",
      "---  ------         --------------  -----  \n",
      " 0   Id             1460 non-null   int64  \n",
      " 1   MSSubClass     1460 non-null   int64  \n",
      " 2   MSZoning       1460 non-null   object \n",
      " 3   LotFrontage    1201 non-null   float64\n",
      " 4   LotArea        1460 non-null   int64  \n",
      " 5   Street         1460 non-null   object \n",
      " 6   Alley          91 non-null     object \n",
      " 7   LotShape       1460 non-null   object \n",
      " 8   LandContour    1460 non-null   object \n",
      " 9   Utilities      1460 non-null   object \n",
      " 10  LotConfig      1460 non-null   object \n",
      " 11  LandSlope      1460 non-null   object \n",
      " 12  Neighborhood   1460 non-null   object \n",
      " 13  Condition1     1460 non-null   object \n",
      " 14  Condition2     1460 non-null   object \n",
      " 15  BldgType       1460 non-null   object \n",
      " 16  HouseStyle     1460 non-null   object \n",
      " 17  OverallQual    1460 non-null   int64  \n",
      " 18  OverallCond    1460 non-null   int64  \n",
      " 19  YearBuilt      1460 non-null   int64  \n",
      " 20  YearRemodAdd   1460 non-null   int64  \n",
      " 21  RoofStyle      1460 non-null   object \n",
      " 22  RoofMatl       1460 non-null   object \n",
      " 23  Exterior1st    1460 non-null   object \n",
      " 24  Exterior2nd    1460 non-null   object \n",
      " 25  MasVnrType     1452 non-null   object \n",
      " 26  MasVnrArea     1452 non-null   float64\n",
      " 27  ExterQual      1460 non-null   object \n",
      " 28  ExterCond      1460 non-null   object \n",
      " 29  Foundation     1460 non-null   object \n",
      " 30  BsmtQual       1423 non-null   object \n",
      " 31  BsmtCond       1423 non-null   object \n",
      " 32  BsmtExposure   1422 non-null   object \n",
      " 33  BsmtFinType1   1423 non-null   object \n",
      " 34  BsmtFinSF1     1460 non-null   int64  \n",
      " 35  BsmtFinType2   1422 non-null   object \n",
      " 36  BsmtFinSF2     1460 non-null   int64  \n",
      " 37  BsmtUnfSF      1460 non-null   int64  \n",
      " 38  TotalBsmtSF    1460 non-null   int64  \n",
      " 39  Heating        1460 non-null   object \n",
      " 40  HeatingQC      1460 non-null   object \n",
      " 41  CentralAir     1460 non-null   object \n",
      " 42  Electrical     1459 non-null   object \n",
      " 43  1stFlrSF       1460 non-null   int64  \n",
      " 44  2ndFlrSF       1460 non-null   int64  \n",
      " 45  LowQualFinSF   1460 non-null   int64  \n",
      " 46  GrLivArea      1460 non-null   int64  \n",
      " 47  BsmtFullBath   1460 non-null   int64  \n",
      " 48  BsmtHalfBath   1460 non-null   int64  \n",
      " 49  FullBath       1460 non-null   int64  \n",
      " 50  HalfBath       1460 non-null   int64  \n",
      " 51  BedroomAbvGr   1460 non-null   int64  \n",
      " 52  KitchenAbvGr   1460 non-null   int64  \n",
      " 53  KitchenQual    1460 non-null   object \n",
      " 54  TotRmsAbvGrd   1460 non-null   int64  \n",
      " 55  Functional     1460 non-null   object \n",
      " 56  Fireplaces     1460 non-null   int64  \n",
      " 57  FireplaceQu    770 non-null    object \n",
      " 58  GarageType     1379 non-null   object \n",
      " 59  GarageYrBlt    1379 non-null   float64\n",
      " 60  GarageFinish   1379 non-null   object \n",
      " 61  GarageCars     1460 non-null   int64  \n",
      " 62  GarageArea     1460 non-null   int64  \n",
      " 63  GarageQual     1379 non-null   object \n",
      " 64  GarageCond     1379 non-null   object \n",
      " 65  PavedDrive     1460 non-null   object \n",
      " 66  WoodDeckSF     1460 non-null   int64  \n",
      " 67  OpenPorchSF    1460 non-null   int64  \n",
      " 68  EnclosedPorch  1460 non-null   int64  \n",
      " 69  3SsnPorch      1460 non-null   int64  \n",
      " 70  ScreenPorch    1460 non-null   int64  \n",
      " 71  PoolArea       1460 non-null   int64  \n",
      " 72  PoolQC         7 non-null      object \n",
      " 73  Fence          281 non-null    object \n",
      " 74  MiscFeature    54 non-null     object \n",
      " 75  MiscVal        1460 non-null   int64  \n",
      " 76  MoSold         1460 non-null   int64  \n",
      " 77  YrSold         1460 non-null   int64  \n",
      " 78  SaleType       1460 non-null   object \n",
      " 79  SaleCondition  1460 non-null   object \n",
      " 80  SalePrice      1460 non-null   int64  \n",
      "dtypes: float64(3), int64(35), object(43)\n",
      "memory usage: 924.0+ KB\n",
      "None\n"
     ]
    }
   ],
   "source": [
    "print(train.info())"
   ]
  },
  {
   "cell_type": "code",
   "execution_count": 4,
   "id": "c09e79fc",
   "metadata": {
    "scrolled": true
   },
   "outputs": [
    {
     "name": "stdout",
     "output_type": "stream",
     "text": [
      "                Id   MSSubClass  LotFrontage        LotArea  OverallQual  \\\n",
      "count  1460.000000  1460.000000  1201.000000    1460.000000  1460.000000   \n",
      "mean    730.500000    56.897260    70.049958   10516.828082     6.099315   \n",
      "std     421.610009    42.300571    24.284752    9981.264932     1.382997   \n",
      "min       1.000000    20.000000    21.000000    1300.000000     1.000000   \n",
      "25%     365.750000    20.000000    59.000000    7553.500000     5.000000   \n",
      "50%     730.500000    50.000000    69.000000    9478.500000     6.000000   \n",
      "75%    1095.250000    70.000000    80.000000   11601.500000     7.000000   \n",
      "max    1460.000000   190.000000   313.000000  215245.000000    10.000000   \n",
      "\n",
      "       OverallCond    YearBuilt  YearRemodAdd   MasVnrArea   BsmtFinSF1  ...  \\\n",
      "count  1460.000000  1460.000000   1460.000000  1452.000000  1460.000000  ...   \n",
      "mean      5.575342  1971.267808   1984.865753   103.685262   443.639726  ...   \n",
      "std       1.112799    30.202904     20.645407   181.066207   456.098091  ...   \n",
      "min       1.000000  1872.000000   1950.000000     0.000000     0.000000  ...   \n",
      "25%       5.000000  1954.000000   1967.000000     0.000000     0.000000  ...   \n",
      "50%       5.000000  1973.000000   1994.000000     0.000000   383.500000  ...   \n",
      "75%       6.000000  2000.000000   2004.000000   166.000000   712.250000  ...   \n",
      "max       9.000000  2010.000000   2010.000000  1600.000000  5644.000000  ...   \n",
      "\n",
      "        WoodDeckSF  OpenPorchSF  EnclosedPorch    3SsnPorch  ScreenPorch  \\\n",
      "count  1460.000000  1460.000000    1460.000000  1460.000000  1460.000000   \n",
      "mean     94.244521    46.660274      21.954110     3.409589    15.060959   \n",
      "std     125.338794    66.256028      61.119149    29.317331    55.757415   \n",
      "min       0.000000     0.000000       0.000000     0.000000     0.000000   \n",
      "25%       0.000000     0.000000       0.000000     0.000000     0.000000   \n",
      "50%       0.000000    25.000000       0.000000     0.000000     0.000000   \n",
      "75%     168.000000    68.000000       0.000000     0.000000     0.000000   \n",
      "max     857.000000   547.000000     552.000000   508.000000   480.000000   \n",
      "\n",
      "          PoolArea       MiscVal       MoSold       YrSold      SalePrice  \n",
      "count  1460.000000   1460.000000  1460.000000  1460.000000    1460.000000  \n",
      "mean      2.758904     43.489041     6.321918  2007.815753  180921.195890  \n",
      "std      40.177307    496.123024     2.703626     1.328095   79442.502883  \n",
      "min       0.000000      0.000000     1.000000  2006.000000   34900.000000  \n",
      "25%       0.000000      0.000000     5.000000  2007.000000  129975.000000  \n",
      "50%       0.000000      0.000000     6.000000  2008.000000  163000.000000  \n",
      "75%       0.000000      0.000000     8.000000  2009.000000  214000.000000  \n",
      "max     738.000000  15500.000000    12.000000  2010.000000  755000.000000  \n",
      "\n",
      "[8 rows x 38 columns]\n"
     ]
    }
   ],
   "source": [
    "print(train.describe())"
   ]
  },
  {
   "cell_type": "code",
   "execution_count": 5,
   "id": "bcf86a7d",
   "metadata": {
    "scrolled": true
   },
   "outputs": [
    {
     "name": "stdout",
     "output_type": "stream",
     "text": [
      "<class 'pandas.core.frame.DataFrame'>\n",
      "RangeIndex: 1459 entries, 0 to 1458\n",
      "Data columns (total 80 columns):\n",
      " #   Column         Non-Null Count  Dtype  \n",
      "---  ------         --------------  -----  \n",
      " 0   Id             1459 non-null   int64  \n",
      " 1   MSSubClass     1459 non-null   int64  \n",
      " 2   MSZoning       1455 non-null   object \n",
      " 3   LotFrontage    1232 non-null   float64\n",
      " 4   LotArea        1459 non-null   int64  \n",
      " 5   Street         1459 non-null   object \n",
      " 6   Alley          107 non-null    object \n",
      " 7   LotShape       1459 non-null   object \n",
      " 8   LandContour    1459 non-null   object \n",
      " 9   Utilities      1457 non-null   object \n",
      " 10  LotConfig      1459 non-null   object \n",
      " 11  LandSlope      1459 non-null   object \n",
      " 12  Neighborhood   1459 non-null   object \n",
      " 13  Condition1     1459 non-null   object \n",
      " 14  Condition2     1459 non-null   object \n",
      " 15  BldgType       1459 non-null   object \n",
      " 16  HouseStyle     1459 non-null   object \n",
      " 17  OverallQual    1459 non-null   int64  \n",
      " 18  OverallCond    1459 non-null   int64  \n",
      " 19  YearBuilt      1459 non-null   int64  \n",
      " 20  YearRemodAdd   1459 non-null   int64  \n",
      " 21  RoofStyle      1459 non-null   object \n",
      " 22  RoofMatl       1459 non-null   object \n",
      " 23  Exterior1st    1458 non-null   object \n",
      " 24  Exterior2nd    1458 non-null   object \n",
      " 25  MasVnrType     1443 non-null   object \n",
      " 26  MasVnrArea     1444 non-null   float64\n",
      " 27  ExterQual      1459 non-null   object \n",
      " 28  ExterCond      1459 non-null   object \n",
      " 29  Foundation     1459 non-null   object \n",
      " 30  BsmtQual       1415 non-null   object \n",
      " 31  BsmtCond       1414 non-null   object \n",
      " 32  BsmtExposure   1415 non-null   object \n",
      " 33  BsmtFinType1   1417 non-null   object \n",
      " 34  BsmtFinSF1     1458 non-null   float64\n",
      " 35  BsmtFinType2   1417 non-null   object \n",
      " 36  BsmtFinSF2     1458 non-null   float64\n",
      " 37  BsmtUnfSF      1458 non-null   float64\n",
      " 38  TotalBsmtSF    1458 non-null   float64\n",
      " 39  Heating        1459 non-null   object \n",
      " 40  HeatingQC      1459 non-null   object \n",
      " 41  CentralAir     1459 non-null   object \n",
      " 42  Electrical     1459 non-null   object \n",
      " 43  1stFlrSF       1459 non-null   int64  \n",
      " 44  2ndFlrSF       1459 non-null   int64  \n",
      " 45  LowQualFinSF   1459 non-null   int64  \n",
      " 46  GrLivArea      1459 non-null   int64  \n",
      " 47  BsmtFullBath   1457 non-null   float64\n",
      " 48  BsmtHalfBath   1457 non-null   float64\n",
      " 49  FullBath       1459 non-null   int64  \n",
      " 50  HalfBath       1459 non-null   int64  \n",
      " 51  BedroomAbvGr   1459 non-null   int64  \n",
      " 52  KitchenAbvGr   1459 non-null   int64  \n",
      " 53  KitchenQual    1458 non-null   object \n",
      " 54  TotRmsAbvGrd   1459 non-null   int64  \n",
      " 55  Functional     1457 non-null   object \n",
      " 56  Fireplaces     1459 non-null   int64  \n",
      " 57  FireplaceQu    729 non-null    object \n",
      " 58  GarageType     1383 non-null   object \n",
      " 59  GarageYrBlt    1381 non-null   float64\n",
      " 60  GarageFinish   1381 non-null   object \n",
      " 61  GarageCars     1458 non-null   float64\n",
      " 62  GarageArea     1458 non-null   float64\n",
      " 63  GarageQual     1381 non-null   object \n",
      " 64  GarageCond     1381 non-null   object \n",
      " 65  PavedDrive     1459 non-null   object \n",
      " 66  WoodDeckSF     1459 non-null   int64  \n",
      " 67  OpenPorchSF    1459 non-null   int64  \n",
      " 68  EnclosedPorch  1459 non-null   int64  \n",
      " 69  3SsnPorch      1459 non-null   int64  \n",
      " 70  ScreenPorch    1459 non-null   int64  \n",
      " 71  PoolArea       1459 non-null   int64  \n",
      " 72  PoolQC         3 non-null      object \n",
      " 73  Fence          290 non-null    object \n",
      " 74  MiscFeature    51 non-null     object \n",
      " 75  MiscVal        1459 non-null   int64  \n",
      " 76  MoSold         1459 non-null   int64  \n",
      " 77  YrSold         1459 non-null   int64  \n",
      " 78  SaleType       1458 non-null   object \n",
      " 79  SaleCondition  1459 non-null   object \n",
      "dtypes: float64(11), int64(26), object(43)\n",
      "memory usage: 912.0+ KB\n",
      "None\n"
     ]
    }
   ],
   "source": [
    "print(test.info())"
   ]
  },
  {
   "cell_type": "markdown",
   "id": "1abc0562",
   "metadata": {},
   "source": [
    "# 이상치 제거"
   ]
  },
  {
   "cell_type": "code",
   "execution_count": 6,
   "id": "3f44eb14",
   "metadata": {},
   "outputs": [
    {
     "name": "stdout",
     "output_type": "stream",
     "text": [
      "(1457, 81)\n"
     ]
    }
   ],
   "source": [
    "# 주택의 평가는 낮은데 가격은 비싼 데이터 제거\n",
    "train.drop(train[(train['OverallQual'] < 4) & (train['SalePrice'] > 180000)].index, inplace=True)\n",
    "train.drop(train[(train['OverallCond'] < 4) & (train['SalePrice'] > 180000)].index, inplace=True)\n",
    "\n",
    "train.reset_index(drop=True, inplace=True)\n",
    "print(train.shape)"
   ]
  },
  {
   "cell_type": "markdown",
   "id": "9dcd6f8d",
   "metadata": {},
   "source": [
    "# 종속 변수의 로그 변환"
   ]
  },
  {
   "cell_type": "code",
   "execution_count": 7,
   "id": "f3ea7d64",
   "metadata": {},
   "outputs": [],
   "source": [
    "import seaborn as sns\n",
    "import matplotlib.pyplot as plt\n",
    "from scipy.stats import norm"
   ]
  },
  {
   "cell_type": "code",
   "execution_count": 8,
   "id": "229fb090",
   "metadata": {},
   "outputs": [
    {
     "name": "stdout",
     "output_type": "stream",
     "text": [
      "The value of mu before log transformation is: 180750.09608785174\n",
      "The value of sigma before log transformation is: 79296.99301649569\n"
     ]
    },
    {
     "name": "stderr",
     "output_type": "stream",
     "text": [
      "/var/folders/h4/qkygjbx150l41hr_cmr5wpt80000gn/T/ipykernel_25701/1736778157.py:16: UserWarning: Matplotlib is currently using module://matplotlib_inline.backend_inline, which is a non-GUI backend, so cannot show the figure.\n",
      "  fig.show()\n"
     ]
    },
    {
     "data": {
      "image/png": "[encoded data removed]",
      "text/plain": [
       "<Figure size 720x432 with 1 Axes>"
      ]
     },
     "metadata": {
      "needs_background": "light"
     },
     "output_type": "display_data"
    }
   ],
   "source": [
    "# 로그 변환 이전의 SalePrice\n",
    "# mu(μ): 모평균, sigma(σ) = 모표준편차\n",
    "(mu, sigma) = norm.fit(train['SalePrice'])\n",
    "print('The value of mu before log transformation is:', mu)\n",
    "print('The value of sigma before log transformation is:', sigma)\n",
    "\n",
    "fig, ax = plt.subplots(figsize=(10, 6))\n",
    "sns.histplot(train['SalePrice'], color='b', stat='probability')\n",
    "ax.xaxis.grid(False)\n",
    "ax.set(ylabel = \"Frequency\")\n",
    "ax.set(xlabel = \"SalePrice\")\n",
    "ax.set(title = 'SalePrice distribution')\n",
    "\n",
    "plt.axvline(mu, color='r', linestyle='--')\n",
    "plt.text(mu+10000, 0.11, 'Mean of SalePrice', rotation=0, color='r')\n",
    "fig.show()"
   ]
  },
  {
   "cell_type": "code",
   "execution_count": 9,
   "id": "84a383fd",
   "metadata": {
    "scrolled": false
   },
   "outputs": [
    {
     "name": "stdout",
     "output_type": "stream",
     "text": [
      "The value of mu after log transformation is: 12.023224732432771\n",
      "The value of sigma after log transformation is: 0.39903187298356657\n"
     ]
    },
    {
     "name": "stderr",
     "output_type": "stream",
     "text": [
      "/var/folders/h4/qkygjbx150l41hr_cmr5wpt80000gn/T/ipykernel_25701/613423912.py:20: UserWarning: Matplotlib is currently using module://matplotlib_inline.backend_inline, which is a non-GUI backend, so cannot show the figure.\n",
      "  fig.show()\n"
     ]
    },
    {
     "data": {
      "image/png": "[encoded data removed]",
      "text/plain": [
       "<Figure size 720x432 with 1 Axes>"
      ]
     },
     "metadata": {
      "needs_background": "light"
     },
     "output_type": "display_data"
    }
   ],
   "source": [
    "import numpy as np\n",
    "# 위에서 데이터는 정규 분포를 이루지 않는 것을 확인할 수 있음. 일반적인 선형 회귀는 정규분포를 만족해야 해서 SalePrice를 로그 변환함.\n",
    "train['SalePrice'] = np.log1p(train['SalePrice'])\n",
    "\n",
    "\n",
    "(mu, sigma) = norm.fit(train['SalePrice'])\n",
    "print('The value of mu after log transformation is:', mu)\n",
    "print('The value of sigma after log transformation is:', sigma)\n",
    "\n",
    "fig, ax = plt.subplots(figsize=(10, 6))\n",
    "sns.histplot(train['SalePrice'], color='b', stat='probability')\n",
    "ax.xaxis.grid(False)\n",
    "ax.set(ylabel = \"Frequency\")\n",
    "ax.set(xlabel = \"SalePrice\")\n",
    "ax.set(title = 'SalePrice distribution')\n",
    "\n",
    "plt.axvline(mu, color='r', linestyle='--')\n",
    "plt.text(mu+0.05, 0.111, 'Mean of SalePrice', rotation=0, color='r')\n",
    "plt.ylim(0, 0.12)\n",
    "fig.show()"
   ]
  },
  {
   "cell_type": "markdown",
   "id": "3814e690",
   "metadata": {},
   "source": [
    "# 데이터 합치기"
   ]
  },
  {
   "cell_type": "code",
   "execution_count": 10,
   "id": "c925ca72",
   "metadata": {},
   "outputs": [
    {
     "data": {
      "text/plain": [
       "((1457, 80), (1459, 79))"
      ]
     },
     "execution_count": 10,
     "metadata": {},
     "output_type": "execute_result"
    }
   ],
   "source": [
    "# train set과 test set을 합치기 전에 Id는 별도로 저장한 뒤에 삭제\n",
    "train_ID = train['Id']\n",
    "test_ID = test['Id']\n",
    "train.drop(['Id'], axis=1, inplace=True)\n",
    "test.drop(['Id'], axis=1, inplace=True)\n",
    "train.shape, test.shape"
   ]
  },
  {
   "cell_type": "code",
   "execution_count": 11,
   "id": "1fa93c3d",
   "metadata": {},
   "outputs": [
    {
     "data": {
      "text/plain": [
       "((1457, 79), (1459, 79), (1457,))"
      ]
     },
     "execution_count": 11,
     "metadata": {},
     "output_type": "execute_result"
    }
   ],
   "source": [
    "# SalePrice도 별도로 저장한 뒤에 삭제\n",
    "y = train['SalePrice'].reset_index(drop=True)\n",
    "train=train.drop('SalePrice', axis=1)\n",
    "train.shape, test.shape, y.shape"
   ]
  },
  {
   "cell_type": "code",
   "execution_count": 12,
   "id": "cd4302b7",
   "metadata": {},
   "outputs": [
    {
     "data": {
      "text/plain": [
       "(2916, 79)"
      ]
     },
     "execution_count": 12,
     "metadata": {},
     "output_type": "execute_result"
    }
   ],
   "source": [
    "all_df = pd.concat([train, test]).reset_index(drop=True)\n",
    "all_df.shape"
   ]
  },
  {
   "cell_type": "markdown",
   "id": "99d4b7d8",
   "metadata": {},
   "source": [
    "# 결측치 처리"
   ]
  },
  {
   "cell_type": "code",
   "execution_count": 13,
   "id": "6d9af8d5",
   "metadata": {
    "scrolled": true
   },
   "outputs": [
    {
     "name": "stdout",
     "output_type": "stream",
     "text": [
      "<결측치 데이터 컬럼과 비율>\n",
      "\n",
      "               Missing Ratio Data Type\n",
      "PoolQC            99.657064    object\n",
      "MiscFeature       96.399177    object\n",
      "Alley             93.209877    object\n",
      "Fence             80.418381    object\n",
      "FireplaceQu       48.696845    object\n",
      "LotFrontage       16.632373   float64\n",
      "GarageFinish       5.452675    object\n",
      "GarageQual         5.452675    object\n",
      "GarageCond         5.452675    object\n",
      "GarageYrBlt        5.452675   float64\n",
      "GarageType         5.384088    object\n",
      "BsmtExposure       2.812071    object\n",
      "BsmtCond           2.812071    object\n",
      "BsmtQual           2.777778    object\n",
      "BsmtFinType2       2.743484    object\n",
      "BsmtFinType1       2.709191    object\n",
      "MasVnrType         0.788752    object\n",
      "MasVnrArea         0.754458   float64\n",
      "MSZoning           0.137174    object\n",
      "BsmtFullBath       0.068587   float64\n",
      "BsmtHalfBath       0.068587   float64\n",
      "Functional         0.068587    object\n",
      "Utilities          0.068587    object\n",
      "GarageArea         0.034294   float64\n",
      "GarageCars         0.034294   float64\n",
      "Electrical         0.034294    object\n",
      "KitchenQual        0.034294    object\n",
      "TotalBsmtSF        0.034294   float64\n",
      "BsmtUnfSF          0.034294   float64\n",
      "BsmtFinSF2         0.034294   float64\n",
      "BsmtFinSF1         0.034294   float64\n",
      "Exterior2nd        0.034294    object\n",
      "Exterior1st        0.034294    object\n",
      "SaleType           0.034294    object\n"
     ]
    }
   ],
   "source": [
    "def check_na(data, head_num):\n",
    "    isnull_na=(data.isnull().sum() / len(data)) * 100\n",
    "    data_na=isnull_na.drop(isnull_na[isnull_na == 0].index).sort_values(ascending = False)\n",
    "    missing_data = pd.DataFrame({'Missing Ratio': data_na,\n",
    "                                 'Data Type': data.dtypes[data_na.index]})\n",
    "    print(\"<결측치 데이터 컬럼과 비율>\\n\\n\", missing_data.head(head_num))\n",
    "\n",
    "check_na(all_df, 100)"
   ]
  },
  {
   "cell_type": "code",
   "execution_count": 14,
   "id": "1833851c",
   "metadata": {
    "scrolled": true
   },
   "outputs": [
    {
     "name": "stdout",
     "output_type": "stream",
     "text": [
      "<결측치 데이터 컬럼과 비율>\n",
      "\n",
      "               Missing Ratio Data Type\n",
      "GarageCond         5.452675    object\n",
      "GarageQual         5.452675    object\n",
      "GarageYrBlt        5.452675   float64\n",
      "GarageFinish       5.452675    object\n",
      "GarageType         5.384088    object\n",
      "BsmtCond           2.812071    object\n",
      "BsmtExposure       2.812071    object\n",
      "BsmtQual           2.777778    object\n",
      "BsmtFinType2       2.743484    object\n",
      "BsmtFinType1       2.709191    object\n",
      "MasVnrType         0.788752    object\n",
      "MasVnrArea         0.754458   float64\n",
      "MSZoning           0.137174    object\n",
      "Functional         0.068587    object\n",
      "Utilities          0.068587    object\n",
      "BsmtFullBath       0.068587   float64\n",
      "BsmtHalfBath       0.068587   float64\n",
      "GarageArea         0.034294   float64\n",
      "GarageCars         0.034294   float64\n",
      "TotalBsmtSF        0.034294   float64\n",
      "KitchenQual        0.034294    object\n",
      "Electrical         0.034294    object\n",
      "BsmtUnfSF          0.034294   float64\n",
      "BsmtFinSF2         0.034294   float64\n",
      "BsmtFinSF1         0.034294   float64\n",
      "Exterior2nd        0.034294    object\n",
      "Exterior1st        0.034294    object\n",
      "SaleType           0.034294    object\n"
     ]
    }
   ],
   "source": [
    "# 결측치 상위 6개 제거\n",
    "\n",
    "all_df.drop(['PoolQC', 'MiscFeature', 'Alley', 'Fence', 'FireplaceQu', 'LotFrontage'], axis=1, inplace=True)\n",
    "\n",
    "check_na(all_df, 100)"
   ]
  },
  {
   "cell_type": "code",
   "execution_count": 15,
   "id": "f14587ca",
   "metadata": {},
   "outputs": [
    {
     "name": "stdout",
     "output_type": "stream",
     "text": [
      "The whole number of cat_all_vars 43\n",
      "The whole number of final_cat_vars 38\n"
     ]
    }
   ],
   "source": [
    "# 결측치 데이터 처리 - 문자열 데이터\n",
    "# 결측치를 빈도수 제일 높은 값으로 채움\n",
    "\n",
    "cat_all_vars = train.select_dtypes(exclude=[np.number])\n",
    "print('The whole number of cat_all_vars', len(list(cat_all_vars)))\n",
    "\n",
    "final_cat_vars=[]\n",
    "for v in cat_all_vars:\n",
    "    if v not in ['PoolQC', 'MiscFeature', 'Alley', 'Fence', 'FireplaceQu', 'LotFrontage']:\n",
    "        final_cat_vars.append(v)\n",
    "print('The whole number of final_cat_vars', len(final_cat_vars))\n",
    "\n",
    "for i in final_cat_vars:\n",
    "    all_df[i] = all_df[i].fillna(all_df[i].mode()[0])"
   ]
  },
  {
   "cell_type": "code",
   "execution_count": 16,
   "id": "32ebe675",
   "metadata": {},
   "outputs": [
    {
     "name": "stdout",
     "output_type": "stream",
     "text": [
      "<결측치 데이터 컬럼과 비율>\n",
      "\n",
      "               Missing Ratio Data Type\n",
      "GarageYrBlt        5.452675   float64\n",
      "MasVnrArea         0.754458   float64\n",
      "BsmtFullBath       0.068587   float64\n",
      "BsmtHalfBath       0.068587   float64\n",
      "BsmtFinSF1         0.034294   float64\n",
      "BsmtFinSF2         0.034294   float64\n",
      "BsmtUnfSF          0.034294   float64\n",
      "TotalBsmtSF        0.034294   float64\n",
      "GarageCars         0.034294   float64\n",
      "GarageArea         0.034294   float64\n"
     ]
    }
   ],
   "source": [
    "check_na(all_df, 100)"
   ]
  },
  {
   "cell_type": "code",
   "execution_count": 17,
   "id": "ab56d119",
   "metadata": {},
   "outputs": [
    {
     "name": "stdout",
     "output_type": "stream",
     "text": [
      "The whole number of num_all_vars 35\n"
     ]
    }
   ],
   "source": [
    "# 결측치 데이터 처리 - 수치형 데이터\n",
    "# 결측치를 중간값으로 채움\n",
    "\n",
    "num_all_vars = list(train.select_dtypes(include=[np.number]))\n",
    "num_all_vars.remove('LotFrontage')\n",
    "print('The whole number of num_all_vars', len(num_all_vars))\n",
    "\n",
    "for i in num_all_vars:\n",
    "    all_df[i].fillna(value = all_df[i].median(), inplace=True)"
   ]
  },
  {
   "cell_type": "code",
   "execution_count": 18,
   "id": "253d2d9a",
   "metadata": {},
   "outputs": [
    {
     "name": "stdout",
     "output_type": "stream",
     "text": [
      "<결측치 데이터 컬럼과 비율>\n",
      "\n",
      " Empty DataFrame\n",
      "Columns: [Missing Ratio, Data Type]\n",
      "Index: []\n"
     ]
    }
   ],
   "source": [
    "check_na(all_df, 100)"
   ]
  },
  {
   "cell_type": "markdown",
   "id": "160e3852",
   "metadata": {},
   "source": [
    "# 왜도(skewness) 값 처리"
   ]
  },
  {
   "cell_type": "code",
   "execution_count": 19,
   "id": "bbcbdbe8",
   "metadata": {
    "scrolled": true
   },
   "outputs": [
    {
     "data": {
      "text/plain": [
       "MiscVal          21.935910\n",
       "PoolArea         16.889551\n",
       "LotArea          12.869017\n",
       "LowQualFinSF     12.334533\n",
       "3SsnPorch        11.370087\n",
       "KitchenAbvGr      4.318067\n",
       "BsmtFinSF2        4.143683\n",
       "EnclosedPorch     4.012966\n",
       "ScreenPorch       3.944305\n",
       "BsmtHalfBath      3.929197\n",
       "MasVnrArea        2.615177\n",
       "OpenPorchSF       2.534191\n",
       "WoodDeckSF        1.841997\n",
       "1stFlrSF          1.471469\n",
       "BsmtFinSF1        1.429202\n",
       "MSSubClass        1.375021\n",
       "GrLivArea         1.270664\n",
       "TotalBsmtSF       1.164943\n",
       "BsmtUnfSF         0.919266\n",
       "2ndFlrSF          0.861877\n",
       "TotRmsAbvGrd      0.753565\n",
       "Fireplaces        0.734820\n",
       "HalfBath          0.696122\n",
       "BsmtFullBath      0.627685\n",
       "OverallCond       0.587976\n",
       "BedroomAbvGr      0.327263\n",
       "GarageArea        0.242356\n",
       "OverallQual       0.197095\n",
       "MoSold            0.195818\n",
       "FullBath          0.164891\n",
       "YrSold            0.132843\n",
       "GarageCars       -0.217977\n",
       "GarageYrBlt      -0.398590\n",
       "YearRemodAdd     -0.451687\n",
       "YearBuilt        -0.600881\n",
       "dtype: float64"
      ]
     },
     "execution_count": 19,
     "metadata": {},
     "output_type": "execute_result"
    }
   ],
   "source": [
    "# 왜도: 비대칭도 -> 정규분포: 왜도 = 0\n",
    "# positive skew: 왼쪽으로 치우침\n",
    "from scipy.stats import skew\n",
    "\n",
    "def find_skew(x):\n",
    "    return skew(x)\n",
    "\n",
    "skew_fetures = all_df[num_all_vars].apply(find_skew).sort_values(ascending=False)\n",
    "skew_fetures"
   ]
  },
  {
   "cell_type": "code",
   "execution_count": 20,
   "id": "9a6aa666",
   "metadata": {},
   "outputs": [
    {
     "data": {
      "image/png": "[encoded data removed]",
      "text/plain": [
       "<Figure size 720x432 with 1 Axes>"
      ]
     },
     "metadata": {
      "needs_background": "light"
     },
     "output_type": "display_data"
    }
   ],
   "source": [
    "skewness_index = list(skew_fetures.index)\n",
    "skewness_index.remove('LotArea')\n",
    "# skewness_index.remove('MiscVal')\n",
    "all_numeric_df = all_df.loc[:, skewness_index]\n",
    "\n",
    "fig, ax = plt.subplots(figsize=(10, 6))\n",
    "ax.set_xlim(0, all_numeric_df.max().sort_values(ascending=False)[0])\n",
    "ax = sns.boxplot(data=all_numeric_df[skewness_index], orient='h', palette='Set1')\n",
    "ax.xaxis.grid(False)\n",
    "ax.set(ylabel='Feature names')\n",
    "ax.set(xlabel='Numeric values')\n",
    "ax.set(title='Numeric Distribution of Features Before Box-Cox Transformation')\n",
    "\n",
    "sns.despine(trim=True, left=True)"
   ]
  },
  {
   "cell_type": "code",
   "execution_count": 21,
   "id": "6e94f11d",
   "metadata": {
    "scrolled": true
   },
   "outputs": [
    {
     "name": "stdout",
     "output_type": "stream",
     "text": [
      "The data before Box-Cox Transformation:\n",
      "    MiscVal  PoolArea  LotArea  LowQualFinSF  3SsnPorch  KitchenAbvGr  \\\n",
      "0        0         0     8450             0          0             1   \n",
      "1        0         0     9600             0          0             1   \n",
      "2        0         0    11250             0          0             1   \n",
      "3        0         0     9550             0          0             1   \n",
      "4        0         0    14260             0          0             1   \n",
      "\n",
      "   BsmtFinSF2  EnclosedPorch  ScreenPorch  BsmtHalfBath  MasVnrArea  \\\n",
      "0         0.0              0            0           0.0       196.0   \n",
      "1         0.0              0            0           1.0         0.0   \n",
      "2         0.0              0            0           0.0       162.0   \n",
      "3         0.0            272            0           0.0         0.0   \n",
      "4         0.0              0            0           0.0       350.0   \n",
      "\n",
      "   OpenPorchSF  WoodDeckSF  1stFlrSF  BsmtFinSF1  MSSubClass  GrLivArea  \\\n",
      "0           61           0       856       706.0          60       1710   \n",
      "1            0         298      1262       978.0          20       1262   \n",
      "2           42           0       920       486.0          60       1786   \n",
      "3           35           0       961       216.0          70       1717   \n",
      "4           84         192      1145       655.0          60       2198   \n",
      "\n",
      "   TotalBsmtSF  \n",
      "0        856.0  \n",
      "1       1262.0  \n",
      "2        920.0  \n",
      "3        756.0  \n",
      "4       1145.0  \n"
     ]
    },
    {
     "name": "stderr",
     "output_type": "stream",
     "text": [
      "/Library/Frameworks/Python.framework/Versions/3.9/lib/python3.9/site-packages/scipy/stats/stats.py:4023: PearsonRConstantInputWarning: An input array is constant; the correlation coefficient is not defined.\n",
      "  warnings.warn(PearsonRConstantInputWarning())\n",
      "/Library/Frameworks/Python.framework/Versions/3.9/lib/python3.9/site-packages/scipy/stats/stats.py:4053: PearsonRNearConstantInputWarning: An input array is nearly constant; the computed correlation coefficient may be inaccurate.\n",
      "  warnings.warn(PearsonRNearConstantInputWarning())\n"
     ]
    },
    {
     "name": "stdout",
     "output_type": "stream",
     "text": [
      "The data after Box-Cox Transformation:\n",
      "    MiscVal  PoolArea    LotArea  LowQualFinSF  3SsnPorch  KitchenAbvGr  \\\n",
      "0      0.0       0.0  13.443589           0.0        0.0      0.751169   \n",
      "1      0.0       0.0  13.714284           0.0        0.0      0.751169   \n",
      "2      0.0       0.0  14.054769           0.0        0.0      0.751169   \n",
      "3      0.0       0.0  13.703149           0.0        0.0      0.751169   \n",
      "4      0.0       0.0  14.572142           0.0        0.0      0.751169   \n",
      "\n",
      "   BsmtFinSF2  EnclosedPorch  ScreenPorch  BsmtHalfBath  MasVnrArea  \\\n",
      "0         0.0       0.000000          0.0      0.000000   19.359930   \n",
      "1         0.0       0.000000          0.0      0.710938    0.000000   \n",
      "2         0.0       0.000000          0.0      0.000000   17.704775   \n",
      "3         0.0      15.973434          0.0      0.000000    0.000000   \n",
      "4         0.0       0.000000          0.0      0.000000   25.295496   \n",
      "\n",
      "   OpenPorchSF  WoodDeckSF  1stFlrSF  BsmtFinSF1  MSSubClass  GrLivArea  \\\n",
      "0    12.008392    0.000000  5.344816  117.691415    6.498925   7.265562   \n",
      "1     0.000000   56.327865  5.579659  146.588528    4.249343   6.976188   \n",
      "2     9.848329    0.000000  5.388929   91.456314    6.498925   7.306940   \n",
      "3     8.921014    0.000000  5.415494   52.718629    6.861719   7.269450   \n",
      "4    14.178733   42.343565  5.521407  111.886163    6.498925   7.504303   \n",
      "\n",
      "   TotalBsmtSF  \n",
      "0   294.715203  \n",
      "1   404.198533  \n",
      "2   312.531246  \n",
      "3   266.362920  \n",
      "4   373.438155  \n"
     ]
    }
   ],
   "source": [
    "# Box-Cox Transformation\n",
    "from scipy.special import boxcox1p\n",
    "from scipy.stats import boxcox_normmax\n",
    "\n",
    "high_skew = skew_fetures[skew_fetures > 1]\n",
    "high_skew_index = high_skew.index\n",
    "print('The data before Box-Cox Transformation:\\n', all_df[high_skew_index].head())\n",
    "\n",
    "for num_var in high_skew_index:\n",
    "    all_df[num_var] = boxcox1p(all_df[num_var], boxcox_normmax(all_df[num_var]+1))\n",
    "\n",
    "print('The data after Box-Cox Transformation:\\n', all_df[high_skew_index].head())"
   ]
  },
  {
   "cell_type": "markdown",
   "id": "29372c74",
   "metadata": {},
   "source": [
    "# 도출 변수 생성"
   ]
  },
  {
   "cell_type": "code",
   "execution_count": 22,
   "id": "809d36e3",
   "metadata": {},
   "outputs": [
    {
     "name": "stdout",
     "output_type": "stream",
     "text": [
      "(2916, 74)\n"
     ]
    }
   ],
   "source": [
    "# 주어진 변수들을 이용해 새로운 변수 도출하기\n",
    "\n",
    "# 집의 전체 크기라는 변수 만들기(세개의 변수를 합쳐서) -> 사용된 세개의 변수는 지우기\n",
    "all_df['TotalSF'] = all_df['TotalBsmtSF'] + all_df['1stFlrSF'] + all_df['2ndFlrSF']\n",
    "all_df.drop(['TotalBsmtSF', '1stFlrSF', '2ndFlrSF'], axis=1)\n",
    "\n",
    "print(all_df.shape)"
   ]
  },
  {
   "cell_type": "code",
   "execution_count": 23,
   "id": "20b372ef",
   "metadata": {},
   "outputs": [
    {
     "name": "stdout",
     "output_type": "stream",
     "text": [
      "(2916, 68)\n"
     ]
    }
   ],
   "source": [
    "all_df['Total_Bathrooms'] = (all_df['FullBath'] + (0.5 * all_df['HalfBath'])\n",
    "                             + all_df['BsmtFullBath'] + (0.5 * all_df['BsmtHalfBath']))\n",
    "\n",
    "all_df['Total_porch_sf'] = (all_df['OpenPorchSF'] + all_df['3SsnPorch']\n",
    "                            + all_df['EnclosedPorch'] + all_df['ScreenPorch'])\n",
    "\n",
    "all_df = all_df.drop(['FullBath', 'HalfBath', 'BsmtFullBath', 'BsmtHalfBath',\n",
    "                     'OpenPorchSF', '3SsnPorch', 'EnclosedPorch', 'ScreenPorch'], axis=1)\n",
    "\n",
    "print(all_df.shape)"
   ]
  },
  {
   "cell_type": "code",
   "execution_count": 24,
   "id": "fc3c2565",
   "metadata": {},
   "outputs": [
    {
     "name": "stdout",
     "output_type": "stream",
     "text": [
      "['YearBuilt', 'YearRemodAdd', 'GarageYrBlt', 'YrSold']\n"
     ]
    }
   ],
   "source": [
    "# 연도와 관련된 변수\n",
    "num_all_vars = list(train.select_dtypes(include=[np.number]))\n",
    "year_feature=[]\n",
    "for v in num_all_vars:\n",
    "    if 'Yr' in v:\n",
    "        year_feature.append(v)\n",
    "    elif 'Year' in v:\n",
    "        year_feature.append(v)\n",
    "\n",
    "print(year_feature)"
   ]
  },
  {
   "cell_type": "code",
   "execution_count": 25,
   "id": "203af332",
   "metadata": {},
   "outputs": [
    {
     "data": {
      "image/png": "[encoded data removed]",
      "text/plain": [
       "<Figure size 720x432 with 3 Axes>"
      ]
     },
     "metadata": {
      "needs_background": "light"
     },
     "output_type": "display_data"
    }
   ],
   "source": [
    "# 위에서 구한 날짜와 관련된 데이터와 SalePrice를 연관 지어 시각화함.\n",
    "\n",
    "fig, ax = plt.subplots(3, 1, figsize=(10, 6), sharex=True, sharey=True)\n",
    "\n",
    "for i, v in enumerate(year_feature):\n",
    "    if v != 'YrSold':\n",
    "        ax[i].scatter(train[v], y, alpha=0.3)\n",
    "        ax[i].set_title('{}'.format(v), size=15)\n",
    "        ax[i].set_ylabel('SalePrice', size=15, labelpad=12.5)\n",
    "\n",
    "plt.tight_layout()\n",
    "plt.show()\n",
    "\n",
    "# 변수 이름은 다르지만 2000년대로 올수록 SalePrice가 우상향함."
   ]
  },
  {
   "cell_type": "code",
   "execution_count": 26,
   "id": "2e791007",
   "metadata": {},
   "outputs": [
    {
     "name": "stdout",
     "output_type": "stream",
     "text": [
      "(2916, 66)\n"
     ]
    }
   ],
   "source": [
    "all_df=all_df.drop(['YearBuilt', 'GarageYrBlt'], axis=1)\n",
    "print(all_df.shape)"
   ]
  },
  {
   "cell_type": "code",
   "execution_count": 27,
   "id": "1c55672d",
   "metadata": {},
   "outputs": [
    {
     "name": "stderr",
     "output_type": "stream",
     "text": [
      "/var/folders/h4/qkygjbx150l41hr_cmr5wpt80000gn/T/ipykernel_25701/1801100485.py:6: UserWarning: Matplotlib is currently using module://matplotlib_inline.backend_inline, which is a non-GUI backend, so cannot show the figure.\n",
      "  fig.show()\n"
     ]
    },
    {
     "data": {
      "image/png": "[encoded data removed]",
      "text/plain": [
       "<Figure size 720x432 with 1 Axes>"
      ]
     },
     "metadata": {
      "needs_background": "light"
     },
     "output_type": "display_data"
    }
   ],
   "source": [
    "# YrSold와 YearRemodAdd 연도 차이로 변수 생성 -> SalePrice와의 관계 시각화.\n",
    "YearsSinceRemodel = train['YrSold'].astype(int) - train['YearRemodAdd'].astype(int)\n",
    "\n",
    "fig, ax = plt.subplots(figsize=(10, 6))\n",
    "ax.scatter(YearsSinceRemodel, y, alpha=0.3)\n",
    "fig.show()"
   ]
  },
  {
   "cell_type": "code",
   "execution_count": 28,
   "id": "9ea0cc59",
   "metadata": {},
   "outputs": [
    {
     "name": "stdout",
     "output_type": "stream",
     "text": [
      "(2916, 65)\n"
     ]
    }
   ],
   "source": [
    "all_df['YearsSinceRemodel'] = all_df['YrSold'].astype(int) - all_df['YearRemodAdd'].astype(int)\n",
    "all_df=all_df.drop(['YrSold', 'YearRemodAdd'], axis=1)\n",
    "print(all_df.shape)"
   ]
  },
  {
   "cell_type": "markdown",
   "id": "69cc13c5",
   "metadata": {},
   "source": [
    "# 더미 변수의 응용"
   ]
  },
  {
   "cell_type": "code",
   "execution_count": 29,
   "id": "7e3fadd7",
   "metadata": {},
   "outputs": [
    {
     "data": {
      "text/plain": [
       "0.000000    2903\n",
       "5.843475       1\n",
       "6.048859       1\n",
       "5.946285       1\n",
       "5.913892       1\n",
       "5.787041       1\n",
       "5.855340       1\n",
       "6.161842       1\n",
       "4.722126       1\n",
       "5.553975       1\n",
       "5.718777       1\n",
       "5.131173       1\n",
       "5.923273       1\n",
       "6.231775       1\n",
       "Name: PoolArea, dtype: int64"
      ]
     },
     "execution_count": 29,
     "metadata": {},
     "output_type": "execute_result"
    }
   ],
   "source": [
    "# 범주형 데이터를 수치형으로 바꾸기\n",
    "# 예시: 남, 여 -> 1, 2\n",
    "\n",
    "all_df['PoolArea'].value_counts()"
   ]
  },
  {
   "cell_type": "code",
   "execution_count": 30,
   "id": "0b41988b",
   "metadata": {},
   "outputs": [
    {
     "data": {
      "text/plain": [
       "0    2903\n",
       "1      13\n",
       "Name: PoolArea, dtype: int64"
      ]
     },
     "execution_count": 30,
     "metadata": {},
     "output_type": "execute_result"
    }
   ],
   "source": [
    "# 위 변수는 0보다 크면 1로 처리해서 0과 1로 단순화\n",
    "\n",
    "def count_dummy(x):\n",
    "    if x > 0:\n",
    "        return 1\n",
    "    else:\n",
    "        return 0\n",
    "\n",
    "all_df['PoolArea'] = all_df['PoolArea'].apply(count_dummy)\n",
    "all_df['PoolArea'].value_counts()"
   ]
  },
  {
   "cell_type": "code",
   "execution_count": 31,
   "id": "f88ed077",
   "metadata": {},
   "outputs": [
    {
     "data": {
      "text/plain": [
       "1    2759\n",
       "0     157\n",
       "Name: GarageArea, dtype: int64"
      ]
     },
     "execution_count": 31,
     "metadata": {},
     "output_type": "execute_result"
    }
   ],
   "source": [
    "all_df['GarageArea'] = all_df['GarageArea'].apply(count_dummy)\n",
    "all_df['GarageArea'].value_counts()"
   ]
  },
  {
   "cell_type": "code",
   "execution_count": 32,
   "id": "aa00abab",
   "metadata": {},
   "outputs": [
    {
     "data": {
      "text/plain": [
       "1    1496\n",
       "0    1420\n",
       "Name: Fireplaces, dtype: int64"
      ]
     },
     "execution_count": 32,
     "metadata": {},
     "output_type": "execute_result"
    }
   ],
   "source": [
    "all_df['Fireplaces'] = all_df['Fireplaces'].apply(count_dummy)\n",
    "all_df['Fireplaces'].value_counts()"
   ]
  },
  {
   "cell_type": "markdown",
   "id": "01e9c4a4",
   "metadata": {},
   "source": [
    "# Label Encoding, Ordinal Encoding, One-Hot Encoding"
   ]
  },
  {
   "cell_type": "code",
   "execution_count": 33,
   "id": "7ef24b95",
   "metadata": {},
   "outputs": [
    {
     "data": {
      "text/plain": [
       "(2916, 261)"
      ]
     },
     "execution_count": 33,
     "metadata": {},
     "output_type": "execute_result"
    }
   ],
   "source": [
    "# 값이 3개 이상이면?\n",
    "\n",
    "all_df = pd.get_dummies(all_df).reset_index(drop=True)\n",
    "all_df.shape"
   ]
  },
  {
   "cell_type": "markdown",
   "id": "b01a38b4",
   "metadata": {},
   "source": [
    "# 머신러닝 모형 학습 및 평가"
   ]
  },
  {
   "cell_type": "code",
   "execution_count": 34,
   "id": "7da41590",
   "metadata": {},
   "outputs": [
    {
     "data": {
      "text/plain": [
       "((1457, 261), (1457,), (1459, 261))"
      ]
     },
     "execution_count": 34,
     "metadata": {},
     "output_type": "execute_result"
    }
   ],
   "source": [
    "X = all_df.iloc[:len(y), :]\n",
    "X_test = all_df.iloc[len(y):, :]\n",
    "X.shape, y.shape, X_test.shape"
   ]
  },
  {
   "cell_type": "code",
   "execution_count": 35,
   "id": "d014bb8d",
   "metadata": {},
   "outputs": [
    {
     "data": {
      "text/plain": [
       "((1019, 261), (438, 261), (1019,), (438,))"
      ]
     },
     "execution_count": 35,
     "metadata": {},
     "output_type": "execute_result"
    }
   ],
   "source": [
    "from sklearn.model_selection import train_test_split\n",
    "X_train, X_test, y_train, y_test = train_test_split(X, y, test_size=0.3, random_state=4)\n",
    "\n",
    "X_train.shape, X_test.shape, y_train.shape, y_test.shape"
   ]
  },
  {
   "cell_type": "code",
   "execution_count": 36,
   "id": "85f3e9c4",
   "metadata": {
    "scrolled": true
   },
   "outputs": [
    {
     "name": "stdout",
     "output_type": "stream",
     "text": [
      "        MSSubClass      LotArea  OverallQual  OverallCond   MasVnrArea  \\\n",
      "count  1457.000000  1457.000000  1457.000000  1457.000000  1457.000000   \n",
      "mean      5.944616    13.609812     6.096774     5.581332     8.189216   \n",
      "std       1.564834     1.097408     1.382126     1.105870    10.994660   \n",
      "min       4.249343     9.784491     1.000000     1.000000     0.000000   \n",
      "25%       4.249343    13.204261     5.000000     5.000000     0.000000   \n",
      "50%       6.085499    13.685897     6.000000     5.000000     0.000000   \n",
      "75%       6.861719    14.121055     7.000000     6.000000    17.807420   \n",
      "max       9.529497    21.277458    10.000000     9.000000    49.799595   \n",
      "\n",
      "        BsmtFinSF1   BsmtFinSF2    BsmtUnfSF  TotalBsmtSF     1stFlrSF  ...  \\\n",
      "count  1457.000000  1457.000000  1457.000000  1457.000000  1457.000000  ...   \n",
      "mean     72.296376     1.117202   567.359643   344.680587     5.497075  ...   \n",
      "std      62.773188     3.183891   442.199881   118.501033     0.190766  ...   \n",
      "min       0.000000     0.000000     0.000000     0.000000     4.747993  ...   \n",
      "25%       0.000000     0.000000   223.000000   277.499501     5.363150  ...   \n",
      "50%      77.557504     0.000000   479.000000   332.025425     5.489562  ...   \n",
      "75%     118.365060     0.000000   808.000000   413.294188     5.637101  ...   \n",
      "max     474.888171    14.270730  2336.000000  1456.470265     6.327442  ...   \n",
      "\n",
      "       SaleType_ConLw  SaleType_New  SaleType_Oth  SaleType_WD  \\\n",
      "count     1457.000000   1457.000000   1457.000000  1457.000000   \n",
      "mean         0.003432      0.083047      0.002059     0.868222   \n",
      "std          0.058500      0.276049      0.045345     0.338365   \n",
      "min          0.000000      0.000000      0.000000     0.000000   \n",
      "25%          0.000000      0.000000      0.000000     1.000000   \n",
      "50%          0.000000      0.000000      0.000000     1.000000   \n",
      "75%          0.000000      0.000000      0.000000     1.000000   \n",
      "max          1.000000      1.000000      1.000000     1.000000   \n",
      "\n",
      "       SaleCondition_Abnorml  SaleCondition_AdjLand  SaleCondition_Alloca  \\\n",
      "count            1457.000000            1457.000000            1457.00000   \n",
      "mean                0.069321               0.002745               0.00755   \n",
      "std                 0.254086               0.052342               0.08659   \n",
      "min                 0.000000               0.000000               0.00000   \n",
      "25%                 0.000000               0.000000               0.00000   \n",
      "50%                 0.000000               0.000000               0.00000   \n",
      "75%                 0.000000               0.000000               0.00000   \n",
      "max                 1.000000               1.000000               1.00000   \n",
      "\n",
      "       SaleCondition_Family  SaleCondition_Normal  SaleCondition_Partial  \n",
      "count           1457.000000           1457.000000            1457.000000  \n",
      "mean               0.013727              0.821551               0.085106  \n",
      "std                0.116395              0.383022               0.279136  \n",
      "min                0.000000              0.000000               0.000000  \n",
      "25%                0.000000              1.000000               0.000000  \n",
      "50%                0.000000              1.000000               0.000000  \n",
      "75%                0.000000              1.000000               0.000000  \n",
      "max                1.000000              1.000000               1.000000  \n",
      "\n",
      "[8 rows x 261 columns]\n",
      "442.1998807993885\n"
     ]
    }
   ],
   "source": [
    "print(X.describe())\n",
    "print(max(X.std()))"
   ]
  },
  {
   "cell_type": "code",
   "execution_count": 37,
   "id": "fddebc0b",
   "metadata": {},
   "outputs": [],
   "source": [
    "from sklearn.model_selection import KFold\n",
    "\n",
    "cv = KFold(n_splits=5, random_state=4, shuffle=True)"
   ]
  },
  {
   "cell_type": "markdown",
   "id": "9c6f0f56",
   "metadata": {},
   "source": [
    "# 회귀 모형 평가 지표"
   ]
  },
  {
   "cell_type": "code",
   "execution_count": 38,
   "id": "a7fb96af",
   "metadata": {},
   "outputs": [],
   "source": [
    "from sklearn.metrics import mean_squared_error\n",
    "\n",
    "def rmsle(y_true, y_pred):\n",
    "    return np.sqrt(mean_squared_error(y_true, y_pred))"
   ]
  },
  {
   "cell_type": "markdown",
   "id": "1d2e0c52",
   "metadata": {},
   "source": [
    "# 모형 정의, 학습, 검증 평가"
   ]
  },
  {
   "cell_type": "markdown",
   "id": "b3de8f13",
   "metadata": {},
   "source": [
    "### Linear Regression ###"
   ]
  },
  {
   "cell_type": "code",
   "execution_count": 50,
   "id": "bb3a2907",
   "metadata": {},
   "outputs": [
    {
     "name": "stdout",
     "output_type": "stream",
     "text": [
      "CV RMSE value list:  [ 441.0571 4230.3554 1917.6431 4578.0567 4845.1635]\n",
      "CV RMSE mean value:  3202.4551\n",
      "linear regression-mean: 3202.4551 (std: 1727.6233)\n"
     ]
    }
   ],
   "source": [
    "from sklearn.metrics import mean_squared_error\n",
    "from sklearn.model_selection import KFold, cross_val_score\n",
    "from sklearn.linear_model import LinearRegression\n",
    "\n",
    "def cv_rmse(model, n_folds):\n",
    "    cv = KFold(n_splits=n_folds, random_state=4, shuffle=True)\n",
    "    rmse_list = np.sqrt(-cross_val_score(lr_model, X, y, scoring='neg_mean_squared_error', cv=cv))\n",
    "    print('CV RMSE value list: ', np.round(rmse_list, 4))\n",
    "    print('CV RMSE mean value: ', np.round(np.mean(rmse_list), 4))\n",
    "    return rmse_list\n",
    "\n",
    "n_folds = 5\n",
    "rmse_scores = {}\n",
    "lr_model = LinearRegression()\n",
    "\n",
    "score = cv_rmse(lr_model, n_folds)\n",
    "print('linear regression-mean: {:.4f} (std: {:.4f})'.format(score.mean(), score.std()))\n",
    "rmse_scores['linear regression'] = (score.mean(), score.std())"
   ]
  },
  {
   "cell_type": "markdown",
   "id": "66a5a2b0",
   "metadata": {},
   "source": [
    "# 다시 !!"
   ]
  },
  {
   "cell_type": "code",
   "execution_count": 75,
   "id": "14c404ea",
   "metadata": {},
   "outputs": [
    {
     "name": "stderr",
     "output_type": "stream",
     "text": [
      "/var/folders/h4/qkygjbx150l41hr_cmr5wpt80000gn/T/ipykernel_25701/2562563179.py:7: RuntimeWarning: overflow encountered in expm1\n",
      "  final_pred = np.floor(np.expm1(lr_model_fit.predict(X_test)))\n"
     ]
    }
   ],
   "source": [
    "from sklearn.model_selection import cross_val_predict\n",
    "\n",
    "X = all_df.iloc[:len(y), :]\n",
    "X_test = all_df.iloc[len(y):, :]\n",
    "\n",
    "lr_model_fit = lr_model.fit(X, y)\n",
    "final_pred = np.floor(np.expm1(lr_model_fit.predict(X_test)))\n",
    "for i in range(len(final_pred)):\n",
    "    if final_pred[i] > 9999999999:\n",
    "        final_pred[i] = final_pred[i-1]\n",
    "    if final_pred[i] < 0:\n",
    "        final_pred[i] = final_pred[i-1]"
   ]
  },
  {
   "cell_type": "code",
   "execution_count": 76,
   "id": "397d60f1",
   "metadata": {},
   "outputs": [
    {
     "name": "stdout",
     "output_type": "stream",
     "text": [
      "        Id  SalePrice\n",
      "0     1461   116860.0\n",
      "1     1462   157915.0\n",
      "2     1463   187958.0\n",
      "3     1464   197374.0\n",
      "4     1465   200082.0\n",
      "...    ...        ...\n",
      "1454  2915    83235.0\n",
      "1455  2916    80767.0\n",
      "1456  2917   175214.0\n",
      "1457  2918   115855.0\n",
      "1458  2919   217784.0\n",
      "\n",
      "[1459 rows x 2 columns]\n"
     ]
    }
   ],
   "source": [
    "submission = pd.read_csv('sample_submission.csv')\n",
    "submission.iloc[:, 1] = final_pred\n",
    "print(submission)\n",
    "submission.to_csv('The_first_regression.csv', index=False)"
   ]
  },
  {
   "cell_type": "code",
   "execution_count": null,
   "id": "0fa1c654",
   "metadata": {},
   "outputs": [],
   "source": []
  }
 ],
 "metadata": {
  "kernelspec": {
   "display_name": "Python 3 (ipykernel)",
   "language": "python",
   "name": "python3"
  },
  "language_info": {
   "codemirror_mode": {
    "name": "ipython",
    "version": 3
   },
   "file_extension": ".py",
   "mimetype": "text/x-python",
   "name": "python",
   "nbconvert_exporter": "python",
   "pygments_lexer": "ipython3",
   "version": "3.9.6"
  }
 },
 "nbformat": 4,
 "nbformat_minor": 5
}
